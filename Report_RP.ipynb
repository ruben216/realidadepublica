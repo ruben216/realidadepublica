{
  "nbformat": 4,
  "nbformat_minor": 0,
  "metadata": {
    "colab": {
      "name": "Report_RP.ipynb",
      "provenance": [],
      "authorship_tag": "ABX9TyOJlZWtiFoi3csWbvsOfZTO",
      "include_colab_link": true
    },
    "kernelspec": {
      "name": "python3",
      "display_name": "Python 3"
    },
    "language_info": {
      "name": "python"
    }
  },
  "cells": [
    {
      "cell_type": "markdown",
      "metadata": {
        "id": "view-in-github",
        "colab_type": "text"
      },
      "source": [
        "<a href=\"https://colab.research.google.com/github/ruben216/realidadepublica/blob/main/Report_RP.ipynb\" target=\"_parent\"><img src=\"https://colab.research.google.com/assets/colab-badge.svg\" alt=\"Open In Colab\"/></a>"
      ]
    },
    {
      "cell_type": "markdown",
      "metadata": {
        "id": "ACv3pgxrwnEf"
      },
      "source": [
        "## Primeira extração: Emendas parlamentares\n",
        "Antes de executar o código abaixo, é necessário possuir uma chave gerada no portal de transparência. Detalhes no Readme do repositório.\n"
      ]
    },
    {
      "cell_type": "code",
      "metadata": {
        "id": "I5KN3iXzwhy6"
      },
      "source": [
        "import pandas as pd\n",
        "import requests\n",
        "import json\n",
        "import numpy as np\n",
        "from google.colab import data_table\n",
        "data_table.enable_dataframe_formatter()\n",
        "import matplotlib.pyplot as plt\n",
        "from scipy.cluster.hierarchy import dendrogram, linkage\n",
        "from scipy.spatial.distance import pdist\n",
        "\n",
        "# A biblioteca do Google Drive só é necessária para o caso de se exportar o dataframe.\n",
        "#from google.colab import drive\n",
        "\n",
        "#Comando para \"criar\" ou importar o seu Google Drive para dentro do Colab\n",
        "#drive.mount('/drive')"
      ],
      "execution_count": null,
      "outputs": []
    },
    {
      "cell_type": "code",
      "metadata": {
        "id": "-G9dHdflxGcn"
      },
      "source": [
        "# Chave gerada no portal\n",
        "chave_portal = '6f98dcedb14a7c1053bc2bd8fb56ba5f'\n",
        "\n",
        "# É necessário enviar a chave no Header da requisição\n",
        "header_chave = {'chave-api-dados':chave_portal}\n",
        "\n",
        "#Variavel que indica se tivemos conteúdo retornado do Portal\n",
        "dados_pagina = \"dados\"\n",
        "\n",
        "#Variável que controla a página que estamos iterando\n",
        "pagina = 1\n",
        "\n",
        "#Ano que iremos consultar\n",
        "ano = 2021\n",
        "\n",
        "#Objeto do tipo lista que irá armazenar os dados retornados de todas as páginas\n",
        "dados_completos = []\n",
        "\n",
        "# Laço que valida se o conteúdo retornado não está vazio.\n",
        "while(dados_pagina):\n",
        "\n",
        "  # A URL é montada informando o ano e a página\n",
        "  url = f'http://api.portaldatransparencia.gov.br/api-de-dados/emendas?ano={ano}&pagina={pagina}'\n",
        "  \n",
        "  # Neste ponto é enviada a request ao Portal de Transparencia, informando a URL e a chave.\n",
        "  dados_pagina = requests.get(url, verify=True,headers=header_chave).json()\n",
        "    \n",
        "  # Caso tenha conteúdo no retorno, ele é adicionado ao objeto de dados_completos\n",
        "  if(dados_pagina):\n",
        "    dados_completos = dados_completos + dados_pagina\n",
        "  pagina += 1\n",
        "  \n",
        "  #print(pagina)\n",
        "\n",
        "\n",
        "df_dados_completos = pd.DataFrame(dados_completos)\n"
      ],
      "execution_count": null,
      "outputs": []
    },
    {
      "cell_type": "code",
      "metadata": {
        "id": "hRFbL9F0m2NN",
        "colab": {
          "base_uri": "https://localhost:8080/",
          "height": 364
        },
        "outputId": "19dcf364-a2e4-4e76-fd9c-8fb695e76776"
      },
      "source": [
        "#Caso queira visualizar os primeiros 5 registros, pode usar o head abaixo\n",
        "df_dados_completos.head()"
      ],
      "execution_count": null,
      "outputs": [
        {
          "output_type": "execute_result",
          "data": {
            "application/vnd.google.colaboratory.module+javascript": "\n      import \"https://ssl.gstatic.com/colaboratory/data_table/a6224c040fa35dcf/data_table.js\";\n\n      window.createDataTable({\n        data: [[{\n            'v': 0,\n            'f': \"0\",\n        },\n\"202019970023\",\n{\n            'v': 2021,\n            'f': \"2021\",\n        },\n\"VICENTINHO\",\n\"VICENTINHO\",\n\"0023\",\n\"S\\u00c3O PAULO\",\n\"Educa\\u00e7\\u00e3o\",\n\"Ensino superior\",\n\" 0,00\",\n\" 0,00\",\n\" 0,00\",\n\" 100.000,00\",\n\" 0,00\",\n\" 0,00\",\n\" 100.000,00\"],\n [{\n            'v': 1,\n            'f': \"1\",\n        },\n\"202039890004\",\n{\n            'v': 2021,\n            'f': \"2021\",\n        },\n\"FRANCISCO JR.\",\n\"FRANCISCO JR.\",\n\"0004\",\n\"GOI\\u00c1S\",\n\"Educa\\u00e7\\u00e3o\",\n\"Ensino superior\",\n\" 0,00\",\n\" 0,00\",\n\" 0,00\",\n\" 500.000,00\",\n\" 0,00\",\n\" 0,00\",\n\" 500.000,00\"],\n [{\n            'v': 2,\n            'f': \"2\",\n        },\n\"202120380004\",\n{\n            'v': 2021,\n            'f': \"2021\",\n        },\n\"FLAVIO ARNS\",\n\"FLAVIO ARNS\",\n\"0004\",\n\"PARAN\\u00c1\",\n\"Direitos da cidadania\",\n\"Direitos individuais, coletivos e difusos\",\n\" 0,00\",\n\" 0,00\",\n\" 0,00\",\n\" 0,00\",\n\" 0,00\",\n\" 0,00\",\n\" 0,00\"],\n [{\n            'v': 3,\n            'f': \"3\",\n        },\n\"202038930004\",\n{\n            'v': 2021,\n            'f': \"2021\",\n        },\n\"MARCIO JERRY\",\n\"MARCIO JERRY\",\n\"0004\",\n\"COLINAS\",\n\"Educa\\u00e7\\u00e3o\",\n\"Ensino superior\",\n\" 0,00\",\n\" 0,00\",\n\" 0,00\",\n\" 300.000,00\",\n\" 0,00\",\n\" 0,00\",\n\" 300.000,00\"],\n [{\n            'v': 4,\n            'f': \"4\",\n        },\n\"202141360007\",\n{\n            'v': 2021,\n            'f': \"2021\",\n        },\n\"IZALCI LUCAS\",\n\"IZALCI LUCAS\",\n\"0007\",\n\"DISTRITO FEDERAL\",\n\"Direitos da cidadania\",\n\"Direitos individuais, coletivos e difusos\",\n\" 0,00\",\n\" 0,00\",\n\" 0,00\",\n\" 0,00\",\n\" 0,00\",\n\" 0,00\",\n\" 0,00\"]],\n        columns: [[\"number\", \"index\"], [\"string\", \"codigoEmenda\"], [\"number\", \"ano\"], [\"string\", \"autor\"], [\"string\", \"nomeAutor\"], [\"string\", \"numeroEmenda\"], [\"string\", \"localidadeDoGasto\"], [\"string\", \"funcao\"], [\"string\", \"subfuncao\"], [\"string\", \"valorEmpenhado\"], [\"string\", \"valorLiquidado\"], [\"string\", \"valorPago\"], [\"string\", \"valorRestoInscrito\"], [\"string\", \"valorRestoCancelado\"], [\"string\", \"valorRestoPago\"], [\"string\", \"valorRestoAPagar\"]],\n        columnOptions: [{\"width\": \"1px\", \"className\": \"index_column\"}],\n        rowsPerPage: 25,\n        helpUrl: \"https://colab.research.google.com/notebooks/data_table.ipynb\",\n        suppressOutputScrolling: true,\n        minimumWidth: undefined,\n      });\n    ",
            "text/html": [
              "<div>\n",
              "<style scoped>\n",
              "    .dataframe tbody tr th:only-of-type {\n",
              "        vertical-align: middle;\n",
              "    }\n",
              "\n",
              "    .dataframe tbody tr th {\n",
              "        vertical-align: top;\n",
              "    }\n",
              "\n",
              "    .dataframe thead th {\n",
              "        text-align: right;\n",
              "    }\n",
              "</style>\n",
              "<table border=\"1\" class=\"dataframe\">\n",
              "  <thead>\n",
              "    <tr style=\"text-align: right;\">\n",
              "      <th></th>\n",
              "      <th>codigoEmenda</th>\n",
              "      <th>ano</th>\n",
              "      <th>autor</th>\n",
              "      <th>nomeAutor</th>\n",
              "      <th>numeroEmenda</th>\n",
              "      <th>localidadeDoGasto</th>\n",
              "      <th>funcao</th>\n",
              "      <th>subfuncao</th>\n",
              "      <th>valorEmpenhado</th>\n",
              "      <th>valorLiquidado</th>\n",
              "      <th>valorPago</th>\n",
              "      <th>valorRestoInscrito</th>\n",
              "      <th>valorRestoCancelado</th>\n",
              "      <th>valorRestoPago</th>\n",
              "      <th>valorRestoAPagar</th>\n",
              "    </tr>\n",
              "  </thead>\n",
              "  <tbody>\n",
              "    <tr>\n",
              "      <th>0</th>\n",
              "      <td>202019970023</td>\n",
              "      <td>2021</td>\n",
              "      <td>VICENTINHO</td>\n",
              "      <td>VICENTINHO</td>\n",
              "      <td>0023</td>\n",
              "      <td>SÃO PAULO</td>\n",
              "      <td>Educação</td>\n",
              "      <td>Ensino superior</td>\n",
              "      <td>0,00</td>\n",
              "      <td>0,00</td>\n",
              "      <td>0,00</td>\n",
              "      <td>100.000,00</td>\n",
              "      <td>0,00</td>\n",
              "      <td>0,00</td>\n",
              "      <td>100.000,00</td>\n",
              "    </tr>\n",
              "    <tr>\n",
              "      <th>1</th>\n",
              "      <td>202039890004</td>\n",
              "      <td>2021</td>\n",
              "      <td>FRANCISCO JR.</td>\n",
              "      <td>FRANCISCO JR.</td>\n",
              "      <td>0004</td>\n",
              "      <td>GOIÁS</td>\n",
              "      <td>Educação</td>\n",
              "      <td>Ensino superior</td>\n",
              "      <td>0,00</td>\n",
              "      <td>0,00</td>\n",
              "      <td>0,00</td>\n",
              "      <td>500.000,00</td>\n",
              "      <td>0,00</td>\n",
              "      <td>0,00</td>\n",
              "      <td>500.000,00</td>\n",
              "    </tr>\n",
              "    <tr>\n",
              "      <th>2</th>\n",
              "      <td>202120380004</td>\n",
              "      <td>2021</td>\n",
              "      <td>FLAVIO ARNS</td>\n",
              "      <td>FLAVIO ARNS</td>\n",
              "      <td>0004</td>\n",
              "      <td>PARANÁ</td>\n",
              "      <td>Direitos da cidadania</td>\n",
              "      <td>Direitos individuais, coletivos e difusos</td>\n",
              "      <td>0,00</td>\n",
              "      <td>0,00</td>\n",
              "      <td>0,00</td>\n",
              "      <td>0,00</td>\n",
              "      <td>0,00</td>\n",
              "      <td>0,00</td>\n",
              "      <td>0,00</td>\n",
              "    </tr>\n",
              "    <tr>\n",
              "      <th>3</th>\n",
              "      <td>202038930004</td>\n",
              "      <td>2021</td>\n",
              "      <td>MARCIO JERRY</td>\n",
              "      <td>MARCIO JERRY</td>\n",
              "      <td>0004</td>\n",
              "      <td>COLINAS</td>\n",
              "      <td>Educação</td>\n",
              "      <td>Ensino superior</td>\n",
              "      <td>0,00</td>\n",
              "      <td>0,00</td>\n",
              "      <td>0,00</td>\n",
              "      <td>300.000,00</td>\n",
              "      <td>0,00</td>\n",
              "      <td>0,00</td>\n",
              "      <td>300.000,00</td>\n",
              "    </tr>\n",
              "    <tr>\n",
              "      <th>4</th>\n",
              "      <td>202141360007</td>\n",
              "      <td>2021</td>\n",
              "      <td>IZALCI LUCAS</td>\n",
              "      <td>IZALCI LUCAS</td>\n",
              "      <td>0007</td>\n",
              "      <td>DISTRITO FEDERAL</td>\n",
              "      <td>Direitos da cidadania</td>\n",
              "      <td>Direitos individuais, coletivos e difusos</td>\n",
              "      <td>0,00</td>\n",
              "      <td>0,00</td>\n",
              "      <td>0,00</td>\n",
              "      <td>0,00</td>\n",
              "      <td>0,00</td>\n",
              "      <td>0,00</td>\n",
              "      <td>0,00</td>\n",
              "    </tr>\n",
              "  </tbody>\n",
              "</table>\n",
              "</div>"
            ],
            "text/plain": [
              "   codigoEmenda   ano  ... valorRestoPago valorRestoAPagar\n",
              "0  202019970023  2021  ...           0,00       100.000,00\n",
              "1  202039890004  2021  ...           0,00       500.000,00\n",
              "2  202120380004  2021  ...           0,00             0,00\n",
              "3  202038930004  2021  ...           0,00       300.000,00\n",
              "4  202141360007  2021  ...           0,00             0,00\n",
              "\n",
              "[5 rows x 15 columns]"
            ]
          },
          "metadata": {},
          "execution_count": 13
        }
      ]
    },
    {
      "cell_type": "code",
      "metadata": {
        "id": "KeDPDk-OTb4M"
      },
      "source": [
        "# Para exportar o dataframe para o Google Drive\n",
        "df_dados_completos.to_csv('/drive/MyDrive/Colab Notebooks/df_dados_completos.csv')"
      ],
      "execution_count": null,
      "outputs": []
    },
    {
      "cell_type": "markdown",
      "metadata": {
        "id": "z4Ip1nWAE-SD"
      },
      "source": [
        "### Agrupando os dados por Estado"
      ]
    },
    {
      "cell_type": "code",
      "metadata": {
        "colab": {
          "base_uri": "https://localhost:8080/"
        },
        "id": "uGqexplfESdN",
        "outputId": "790da2ac-f5bc-470e-fb3f-e729e614c8d6"
      },
      "source": [
        "\n",
        "#df_dados_completos[df_dados_completos['localidadeDoGasto']=='SERGIPE']\n",
        "df_dados_completos.groupby('localidadeDoGasto').count()['funcao'].sort_values(ascending=False).head(10)\n",
        "\n"
      ],
      "execution_count": null,
      "outputs": [
        {
          "output_type": "execute_result",
          "data": {
            "text/plain": [
              "localidadeDoGasto\n",
              "SÃO PAULO            542\n",
              "MINAS GERAIS         397\n",
              "RIO DE JANEIRO       326\n",
              "Nacional             292\n",
              "RIO GRANDE DO SUL    287\n",
              "BAHIA                221\n",
              "PARANÁ               203\n",
              "PERNAMBUCO           175\n",
              "GOIÁS                154\n",
              "SANTA CATARINA       145\n",
              "Name: funcao, dtype: int64"
            ]
          },
          "metadata": {},
          "execution_count": 28
        }
      ]
    },
    {
      "cell_type": "markdown",
      "metadata": {
        "id": "2gM1Fw1MJ9ZL"
      },
      "source": [
        "### Agrupando os dados por parlamentar"
      ]
    },
    {
      "cell_type": "code",
      "metadata": {
        "colab": {
          "base_uri": "https://localhost:8080/"
        },
        "id": "77T7q_zsKCHc",
        "outputId": "8d4d3ddd-1066-4342-d266-2d4acb685b89"
      },
      "source": [
        "df_dados_completos.groupby('autor').count()['funcao']\n",
        "  .sort_values(ascending=False)\n",
        "  .head(10)"
      ],
      "execution_count": null,
      "outputs": [
        {
          "output_type": "execute_result",
          "data": {
            "text/plain": [
              "autor\n",
              "RELATOR GERAL            34\n",
              "OTTO ALENCAR             30\n",
              "MARRECA FILHO            29\n",
              "JUAREZ COSTA             27\n",
              "MAURO BENEVIDES FILHO    26\n",
              "JULIO CESAR              24\n",
              "PROFESSORA MARCIVANIA    23\n",
              "LUCAS REDECKER           23\n",
              "ELI CORREA FILHO         22\n",
              "ALAN RICK                22\n",
              "Name: funcao, dtype: int64"
            ]
          },
          "metadata": {},
          "execution_count": 29
        }
      ]
    },
    {
      "cell_type": "markdown",
      "metadata": {
        "id": "obUUVsfKALq1"
      },
      "source": [
        "### Clusterização com dendogramas"
      ]
    },
    {
      "cell_type": "code",
      "metadata": {
        "id": "BmWP2NIWDLnx",
        "colab": {
          "base_uri": "https://localhost:8080/",
          "height": 431
        },
        "outputId": "661606bf-be2c-4c27-baad-364b1e5f4f51"
      },
      "source": [
        "# Nesse exemplo, primeiro eu criei um subset do dataframe inicial\n",
        "dados_resumo = df_dados_completos.head()\n",
        "\n",
        "# Agora nós criamos outro subset, trazendo todas as linhas, porém somente 2 colunas\n",
        "dados_loc = dados_resumo.loc[:,[\"valorRestoPago\",\"valorRestoAPagar\"]]\n",
        "\n",
        "# Realizamos algumas limpezas nos dados, para conseguir gerar o dendograma\n",
        "dados_loc[\"valorRestoAPagar\"] = dados_loc[\"valorRestoAPagar\"].str.replace(' ', '')\n",
        "dados_loc[\"valorRestoAPagar\"] = dados_loc[\"valorRestoAPagar\"].str.replace('.', '')\n",
        "dados_loc[\"valorRestoAPagar\"] = dados_loc[\"valorRestoAPagar\"].str.replace(',', '.')\n",
        "dados_loc[\"valorRestoAPagar\"] = pd.to_numeric(dados_loc[\"valorRestoAPagar\"], downcast=\"float\")\n",
        "\n",
        "dados_loc[\"valorRestoPago\"] = dados_loc[\"valorRestoPago\"].str.replace(' ', '')\n",
        "dados_loc[\"valorRestoPago\"] = dados_loc[\"valorRestoPago\"].str.replace('.', '')\n",
        "dados_loc[\"valorRestoPago\"] = dados_loc[\"valorRestoPago\"].str.replace(',', '.')\n",
        "dados_loc[\"valorRestoPago\"] = pd.to_numeric(dados_loc[\"valorRestoPago\"], downcast=\"float\")\n",
        "\n",
        "# Neste ponto é criada a matriz de distância dos grupos, utilizando o método single.\n",
        "# Este método pode ser entendido como o \"método do vizinho mais próximo\"\n",
        "linked = linkage(dados_loc, 'ward')\n",
        "#linked\n",
        "\n",
        "\n",
        "labelList = range(1, 11)\n",
        "\n",
        "plt.figure(figsize=(10, 7))\n",
        "dendrogram(linked,\n",
        "            orientation='top',\n",
        "            labels=labelList,\n",
        "            distance_sort='descending',\n",
        "            show_leaf_counts=True)\n",
        "plt.show()\n",
        "\n"
      ],
      "execution_count": null,
      "outputs": [
        {
          "output_type": "display_data",
          "data": {
            "image/png": "[encoded data removed]",
            "text/plain": [
              "<Figure size 720x504 with 1 Axes>"
            ]
          },
          "metadata": {
            "needs_background": "light"
          }
        }
      ]
    }
  ]
}