{
  "nbformat": 4,
  "nbformat_minor": 0,
  "metadata": {
    "colab": {
      "name": "Untitled0.ipynb",
      "provenance": [],
      "authorship_tag": "ABX9TyPwNiPKzRVtSGzu9IJG3SYq",
      "include_colab_link": true
    },
    "kernelspec": {
      "name": "python3",
      "display_name": "Python 3"
    },
    "language_info": {
      "name": "python"
    }
  },
  "cells": [
    {
      "cell_type": "markdown",
      "metadata": {
        "id": "view-in-github",
        "colab_type": "text"
      },
      "source": [
        "<a href=\"https://colab.research.google.com/github/ruben216/realidadepublica/blob/main/Notebook.ipynb\" target=\"_parent\"><img src=\"https://colab.research.google.com/assets/colab-badge.svg\" alt=\"Open In Colab\"/></a>"
      ]
    },
    {
      "cell_type": "markdown",
      "metadata": {
        "id": "VQ0vmv0GXG5L"
      },
      "source": [
        "# Teste\n",
        "Esse report serve apenas para visualizar as principais funcionalidades do Notebook dentro do Collab.\n",
        "- Listas\n",
        "- de\n",
        "- itens\n",
        "\n",
        "1. Númericas\n",
        "2. também\n",
        "3. existem\n",
        "\n",
        "### Sub item 1\n",
        "\n",
        "### Sub item 2\n",
        "\n"
      ]
    },
    {
      "cell_type": "code",
      "metadata": {
        "colab": {
          "base_uri": "https://localhost:8080/"
        },
        "id": "_EobiE7xXEwj",
        "outputId": "98e329e8-94a6-4b58-91a4-9da271e620c6"
      },
      "source": [
        "print('Impressão de texto')"
      ],
      "execution_count": 2,
      "outputs": [
        {
          "output_type": "stream",
          "name": "stdout",
          "text": [
            "Impressão de texto\n"
          ]
        }
      ]
    }
  ]
}