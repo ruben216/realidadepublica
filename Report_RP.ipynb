{
  "nbformat": 4,
  "nbformat_minor": 0,
  "metadata": {
    "colab": {
      "name": "Report_RP.ipynb",
      "provenance": [],
      "authorship_tag": "ABX9TyNwBMi4wMgtzYbtBE9Tork+",
      "include_colab_link": true
    },
    "kernelspec": {
      "name": "python3",
      "display_name": "Python 3"
    },
    "language_info": {
      "name": "python"
    }
  },
  "cells": [
    {
      "cell_type": "markdown",
      "metadata": {
        "id": "view-in-github",
        "colab_type": "text"
      },
      "source": [
        "<a href=\"https://colab.research.google.com/github/ruben216/realidadepublica/blob/main/Report_RP.ipynb\" target=\"_parent\"><img src=\"https://colab.research.google.com/assets/colab-badge.svg\" alt=\"Open In Colab\"/></a>"
      ]
    },
    {
      "cell_type": "markdown",
      "metadata": {
        "id": "ACv3pgxrwnEf"
      },
      "source": [
        "## Primeira extração: Emendas parlamentares\n",
        "Antes de executar o código abaixo, é necessário possuir uma chave gerada no portal de transparência. Detalhes no Readme do repositório.\n"
      ]
    },
    {
      "cell_type": "code",
      "metadata": {
        "id": "I5KN3iXzwhy6",
        "colab": {
          "base_uri": "https://localhost:8080/"
        },
        "outputId": "557a39d9-21e6-4255-90d3-7f8f0ba9b145"
      },
      "source": [
        "import pandas as pd\n",
        "import requests\n",
        "import json\n",
        "import numpy as np\n",
        "from google.colab import data_table\n",
        "data_table.enable_dataframe_formatter()\n",
        "\n",
        "# A biblioteca do Google Drive só é necessária para o caso de se exportar o dataframe\n",
        "from google.colab import drive\n",
        "\n",
        "#Comando para \"criar\" ou importar o seu Google Drive para dentro do Colab\n",
        "drive.mount('/drive')"
      ],
      "execution_count": 19,
      "outputs": [
        {
          "output_type": "stream",
          "name": "stdout",
          "text": [
            "Drive already mounted at /drive; to attempt to forcibly remount, call drive.mount(\"/drive\", force_remount=True).\n"
          ]
        }
      ]
    },
    {
      "cell_type": "code",
      "metadata": {
        "id": "-G9dHdflxGcn"
      },
      "source": [
        "# Chave gerada no portal\n",
        "chave_portal = '6f98dcedb14a7c1053bc2bd8fb56ba5f'\n",
        "\n",
        "# É necessário enviar a chave no Header da requisição\n",
        "header_chave = {'chave-api-dados':chave_portal}\n",
        "\n",
        "#Variavel que indica se tivemos conteúdo retornado do Portal\n",
        "conteudo = 1\n",
        "\n",
        "#Variável que controla a página que estamos iterando\n",
        "pagina = 1\n",
        "\n",
        "#Ano que iremos consultar\n",
        "ano = 2021\n",
        "\n",
        "#Objeto que irá armazenar os dados retornados de todas as páginas\n",
        "dados_completos = []\n",
        "\n",
        "# Laço que valida se o conteúdo retornado não está vazio.\n",
        "while(conteudo > 0):\n",
        "\n",
        "  # A URL é montada informando o ano e a página\n",
        "  url = f'http://api.portaldatransparencia.gov.br/api-de-dados/emendas?ano={ano}&pagina={pagina}'\n",
        "  \n",
        "  # Neste ponto é enviada a request ao Portal de Transparencia, informando a URL e a chave.\n",
        "  dados_pagina = requests.get(url, verify=True,headers=header_chave).json()\n",
        "  \n",
        "  # A variável *conteudo* recebe o tamanho do retorno recebido\n",
        "  conteudo = len(dados_pagina)\n",
        "  \n",
        "  # Caso tenha conteúdo no retorno, ele é adicionado ao objeto de dados_completos\n",
        "  if(conteudo > 0):\n",
        "    dados_completos = dados_completos + dados_pagina\n",
        "  pagina += 1\n",
        "  \n",
        "  #print(pagina)\n",
        "\n",
        "\n",
        "df_dados_completos = pd.DataFrame(dados_completos)\n"
      ],
      "execution_count": 4,
      "outputs": []
    },
    {
      "cell_type": "code",
      "metadata": {
        "id": "hRFbL9F0m2NN",
        "colab": {
          "base_uri": "https://localhost:8080/",
          "height": 430
        },
        "outputId": "d8cefa5e-2921-45d7-ffa5-3020bb8ea284"
      },
      "source": [
        "#Caso queira visualizar os primeiros 5 registros, pode usar o head abaixo\n",
        "df_dados_completos.head()"
      ],
      "execution_count": 20,
      "outputs": [
        {
          "output_type": "execute_result",
          "data": {
            "application/vnd.google.colaboratory.module+javascript": "\n      import \"https://ssl.gstatic.com/colaboratory/data_table/a6224c040fa35dcf/data_table.js\";\n\n      window.createDataTable({\n        data: [[{\n            'v': 0,\n            'f': \"0\",\n        },\n\"202081001576\",\n{\n            'v': 2021,\n            'f': \"2021\",\n        },\n\"RELATOR GERAL\",\n\"RELATOR GERAL\",\n\"1576\",\n\"Nacional\",\n\"Urbanismo\",\n\"Assist\\u00eancia comunit\\u00e1ria\",\n\" 0,00\",\n\" 0,00\",\n\" 0,00\",\n\" 9.000.000,00\",\n\" 0,00\",\n\" 0,00\",\n\" 9.000.000,00\"],\n [{\n            'v': 1,\n            'f': \"1\",\n        },\n\"202129790005\",\n{\n            'v': 2021,\n            'f': \"2021\",\n        },\n\"FABIO REIS\",\n\"FABIO REIS\",\n\"0005\",\n\"Nacional\",\n\"Direitos da cidadania\",\n\"Direitos individuais, coletivos e difusos\",\n\" 0,00\",\n\" 0,00\",\n\" 0,00\",\n\" 0,00\",\n\" 0,00\",\n\" 0,00\",\n\" 0,00\"],\n [{\n            'v': 2,\n            'f': \"2\",\n        },\n\"202139270010\",\n{\n            'v': 2021,\n            'f': \"2021\",\n        },\n\"CAPITAO WAGNER\",\n\"CAPITAO WAGNER\",\n\"0010\",\n\"CEAR\\u00c1\",\n\"Direitos da cidadania\",\n\"Direitos individuais, coletivos e difusos\",\n\" 0,00\",\n\" 0,00\",\n\" 0,00\",\n\" 0,00\",\n\" 0,00\",\n\" 0,00\",\n\" 0,00\"],\n [{\n            'v': 3,\n            'f': \"3\",\n        },\n\"202136660003\",\n{\n            'v': 2021,\n            'f': \"2021\",\n        },\n\"POMPEO DE MATTOS\",\n\"POMPEO DE MATTOS\",\n\"0003\",\n\"RIO GRANDE DO SUL\",\n\"Direitos da cidadania\",\n\"Direitos individuais, coletivos e difusos\",\n\" 0,00\",\n\" 0,00\",\n\" 0,00\",\n\" 0,00\",\n\" 0,00\",\n\" 0,00\",\n\" 0,00\"],\n [{\n            'v': 4,\n            'f': \"4\",\n        },\n\"202141340003\",\n{\n            'v': 2021,\n            'f': \"2021\",\n        },\n\"VALDEVAN NOVENTA\",\n\"VALDEVAN NOVENTA\",\n\"0003\",\n\"SERGIPE\",\n\"Direitos da cidadania\",\n\"Direitos individuais, coletivos e difusos\",\n\" 0,00\",\n\" 0,00\",\n\" 0,00\",\n\" 0,00\",\n\" 0,00\",\n\" 0,00\",\n\" 0,00\"]],\n        columns: [[\"number\", \"index\"], [\"string\", \"codigoEmenda\"], [\"number\", \"ano\"], [\"string\", \"autor\"], [\"string\", \"nomeAutor\"], [\"string\", \"numeroEmenda\"], [\"string\", \"localidadeDoGasto\"], [\"string\", \"funcao\"], [\"string\", \"subfuncao\"], [\"string\", \"valorEmpenhado\"], [\"string\", \"valorLiquidado\"], [\"string\", \"valorPago\"], [\"string\", \"valorRestoInscrito\"], [\"string\", \"valorRestoCancelado\"], [\"string\", \"valorRestoPago\"], [\"string\", \"valorRestoAPagar\"]],\n        columnOptions: [{\"width\": \"1px\", \"className\": \"index_column\"}],\n        rowsPerPage: 25,\n        helpUrl: \"https://colab.research.google.com/notebooks/data_table.ipynb\",\n        suppressOutputScrolling: true,\n        minimumWidth: undefined,\n      });\n    ",
            "text/html": [
              "<div>\n",
              "<style scoped>\n",
              "    .dataframe tbody tr th:only-of-type {\n",
              "        vertical-align: middle;\n",
              "    }\n",
              "\n",
              "    .dataframe tbody tr th {\n",
              "        vertical-align: top;\n",
              "    }\n",
              "\n",
              "    .dataframe thead th {\n",
              "        text-align: right;\n",
              "    }\n",
              "</style>\n",
              "<table border=\"1\" class=\"dataframe\">\n",
              "  <thead>\n",
              "    <tr style=\"text-align: right;\">\n",
              "      <th></th>\n",
              "      <th>codigoEmenda</th>\n",
              "      <th>ano</th>\n",
              "      <th>autor</th>\n",
              "      <th>nomeAutor</th>\n",
              "      <th>numeroEmenda</th>\n",
              "      <th>localidadeDoGasto</th>\n",
              "      <th>funcao</th>\n",
              "      <th>subfuncao</th>\n",
              "      <th>valorEmpenhado</th>\n",
              "      <th>valorLiquidado</th>\n",
              "      <th>valorPago</th>\n",
              "      <th>valorRestoInscrito</th>\n",
              "      <th>valorRestoCancelado</th>\n",
              "      <th>valorRestoPago</th>\n",
              "      <th>valorRestoAPagar</th>\n",
              "    </tr>\n",
              "  </thead>\n",
              "  <tbody>\n",
              "    <tr>\n",
              "      <th>0</th>\n",
              "      <td>202081001576</td>\n",
              "      <td>2021</td>\n",
              "      <td>RELATOR GERAL</td>\n",
              "      <td>RELATOR GERAL</td>\n",
              "      <td>1576</td>\n",
              "      <td>Nacional</td>\n",
              "      <td>Urbanismo</td>\n",
              "      <td>Assistência comunitária</td>\n",
              "      <td>0,00</td>\n",
              "      <td>0,00</td>\n",
              "      <td>0,00</td>\n",
              "      <td>9.000.000,00</td>\n",
              "      <td>0,00</td>\n",
              "      <td>0,00</td>\n",
              "      <td>9.000.000,00</td>\n",
              "    </tr>\n",
              "    <tr>\n",
              "      <th>1</th>\n",
              "      <td>202129790005</td>\n",
              "      <td>2021</td>\n",
              "      <td>FABIO REIS</td>\n",
              "      <td>FABIO REIS</td>\n",
              "      <td>0005</td>\n",
              "      <td>Nacional</td>\n",
              "      <td>Direitos da cidadania</td>\n",
              "      <td>Direitos individuais, coletivos e difusos</td>\n",
              "      <td>0,00</td>\n",
              "      <td>0,00</td>\n",
              "      <td>0,00</td>\n",
              "      <td>0,00</td>\n",
              "      <td>0,00</td>\n",
              "      <td>0,00</td>\n",
              "      <td>0,00</td>\n",
              "    </tr>\n",
              "    <tr>\n",
              "      <th>2</th>\n",
              "      <td>202139270010</td>\n",
              "      <td>2021</td>\n",
              "      <td>CAPITAO WAGNER</td>\n",
              "      <td>CAPITAO WAGNER</td>\n",
              "      <td>0010</td>\n",
              "      <td>CEARÁ</td>\n",
              "      <td>Direitos da cidadania</td>\n",
              "      <td>Direitos individuais, coletivos e difusos</td>\n",
              "      <td>0,00</td>\n",
              "      <td>0,00</td>\n",
              "      <td>0,00</td>\n",
              "      <td>0,00</td>\n",
              "      <td>0,00</td>\n",
              "      <td>0,00</td>\n",
              "      <td>0,00</td>\n",
              "    </tr>\n",
              "    <tr>\n",
              "      <th>3</th>\n",
              "      <td>202136660003</td>\n",
              "      <td>2021</td>\n",
              "      <td>POMPEO DE MATTOS</td>\n",
              "      <td>POMPEO DE MATTOS</td>\n",
              "      <td>0003</td>\n",
              "      <td>RIO GRANDE DO SUL</td>\n",
              "      <td>Direitos da cidadania</td>\n",
              "      <td>Direitos individuais, coletivos e difusos</td>\n",
              "      <td>0,00</td>\n",
              "      <td>0,00</td>\n",
              "      <td>0,00</td>\n",
              "      <td>0,00</td>\n",
              "      <td>0,00</td>\n",
              "      <td>0,00</td>\n",
              "      <td>0,00</td>\n",
              "    </tr>\n",
              "    <tr>\n",
              "      <th>4</th>\n",
              "      <td>202141340003</td>\n",
              "      <td>2021</td>\n",
              "      <td>VALDEVAN NOVENTA</td>\n",
              "      <td>VALDEVAN NOVENTA</td>\n",
              "      <td>0003</td>\n",
              "      <td>SERGIPE</td>\n",
              "      <td>Direitos da cidadania</td>\n",
              "      <td>Direitos individuais, coletivos e difusos</td>\n",
              "      <td>0,00</td>\n",
              "      <td>0,00</td>\n",
              "      <td>0,00</td>\n",
              "      <td>0,00</td>\n",
              "      <td>0,00</td>\n",
              "      <td>0,00</td>\n",
              "      <td>0,00</td>\n",
              "    </tr>\n",
              "  </tbody>\n",
              "</table>\n",
              "</div>"
            ],
            "text/plain": [
              "   codigoEmenda   ano  ... valorRestoPago valorRestoAPagar\n",
              "0  202081001576  2021  ...           0,00     9.000.000,00\n",
              "1  202129790005  2021  ...           0,00             0,00\n",
              "2  202139270010  2021  ...           0,00             0,00\n",
              "3  202136660003  2021  ...           0,00             0,00\n",
              "4  202141340003  2021  ...           0,00             0,00\n",
              "\n",
              "[5 rows x 15 columns]"
            ]
          },
          "metadata": {},
          "execution_count": 20
        }
      ]
    },
    {
      "cell_type": "code",
      "metadata": {
        "id": "KeDPDk-OTb4M"
      },
      "source": [
        "# Para exportar o dataframe para o Google Drive\n",
        "df_dados_completos.to_csv('/drive/MyDrive/Colab Notebooks/df_dados_completos.csv')"
      ],
      "execution_count": null,
      "outputs": []
    },
    {
      "cell_type": "markdown",
      "metadata": {
        "id": "z4Ip1nWAE-SD"
      },
      "source": [
        "### Agrupando os dados por Estado"
      ]
    },
    {
      "cell_type": "code",
      "metadata": {
        "colab": {
          "base_uri": "https://localhost:8080/"
        },
        "id": "uGqexplfESdN",
        "outputId": "790da2ac-f5bc-470e-fb3f-e729e614c8d6"
      },
      "source": [
        "\n",
        "#df_dados_completos[df_dados_completos['localidadeDoGasto']=='SERGIPE']\n",
        "df_dados_completos.groupby('localidadeDoGasto').count()['funcao'].sort_values(ascending=False).head(10)\n",
        "\n"
      ],
      "execution_count": 28,
      "outputs": [
        {
          "output_type": "execute_result",
          "data": {
            "text/plain": [
              "localidadeDoGasto\n",
              "SÃO PAULO            542\n",
              "MINAS GERAIS         397\n",
              "RIO DE JANEIRO       326\n",
              "Nacional             292\n",
              "RIO GRANDE DO SUL    287\n",
              "BAHIA                221\n",
              "PARANÁ               203\n",
              "PERNAMBUCO           175\n",
              "GOIÁS                154\n",
              "SANTA CATARINA       145\n",
              "Name: funcao, dtype: int64"
            ]
          },
          "metadata": {},
          "execution_count": 28
        }
      ]
    },
    {
      "cell_type": "markdown",
      "metadata": {
        "id": "2gM1Fw1MJ9ZL"
      },
      "source": [
        "### Agrupando os dados por parlamentar"
      ]
    },
    {
      "cell_type": "code",
      "metadata": {
        "colab": {
          "base_uri": "https://localhost:8080/"
        },
        "id": "77T7q_zsKCHc",
        "outputId": "8d4d3ddd-1066-4342-d266-2d4acb685b89"
      },
      "source": [
        "df_dados_completos.groupby('autor').count()['funcao'].sort_values(ascending=False).head(10)"
      ],
      "execution_count": 29,
      "outputs": [
        {
          "output_type": "execute_result",
          "data": {
            "text/plain": [
              "autor\n",
              "RELATOR GERAL            34\n",
              "OTTO ALENCAR             30\n",
              "MARRECA FILHO            29\n",
              "JUAREZ COSTA             27\n",
              "MAURO BENEVIDES FILHO    26\n",
              "JULIO CESAR              24\n",
              "PROFESSORA MARCIVANIA    23\n",
              "LUCAS REDECKER           23\n",
              "ELI CORREA FILHO         22\n",
              "ALAN RICK                22\n",
              "Name: funcao, dtype: int64"
            ]
          },
          "metadata": {},
          "execution_count": 29
        }
      ]
    }
  ]
}