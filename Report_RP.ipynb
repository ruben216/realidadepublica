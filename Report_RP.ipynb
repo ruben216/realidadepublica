{
  "nbformat": 4,
  "nbformat_minor": 0,
  "metadata": {
    "colab": {
      "name": "Report_RP.ipynb",
      "provenance": [],
      "authorship_tag": "ABX9TyMY6UY50TlrGmzCfPI/0HoD",
      "include_colab_link": true
    },
    "kernelspec": {
      "name": "python3",
      "display_name": "Python 3"
    },
    "language_info": {
      "name": "python"
    }
  },
  "cells": [
    {
      "cell_type": "markdown",
      "metadata": {
        "id": "view-in-github",
        "colab_type": "text"
      },
      "source": [
        "<a href=\"https://colab.research.google.com/github/ruben216/realidadepublica/blob/main/Report_RP.ipynb\" target=\"_parent\"><img src=\"https://colab.research.google.com/assets/colab-badge.svg\" alt=\"Open In Colab\"/></a>"
      ]
    },
    {
      "cell_type": "markdown",
      "metadata": {
        "id": "ACv3pgxrwnEf"
      },
      "source": [
        "## Enviando requisições\n",
        "Será necessário possuir uma chave gerada no portal de transparência. Detalhes no Readme do repositório."
      ]
    },
    {
      "cell_type": "code",
      "metadata": {
        "id": "I5KN3iXzwhy6"
      },
      "source": [
        "import pandas as pd\n",
        "import requests\n",
        "import json\n",
        "import numpy as np"
      ],
      "execution_count": 1,
      "outputs": []
    },
    {
      "cell_type": "code",
      "metadata": {
        "id": "-G9dHdflxGcn"
      },
      "source": [
        "# Chave gerada no portal\n",
        "chave_portal = '6f98dcedb14a7c1053bc2bd8fb56ba5f'\n",
        "\n",
        "# É necessário enviar a chave no Header da requisição\n",
        "header_chave = {'chave-api-dados':minha_chave}\n"
      ],
      "execution_count": null,
      "outputs": []
    }
  ]
}