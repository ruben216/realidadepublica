{
  "nbformat": 4,
  "nbformat_minor": 0,
  "metadata": {
    "colab": {
      "name": "Report_RP.ipynb",
      "provenance": [],
      "authorship_tag": "ABX9TyN/OY770EgiSp6wYey7Vh0q",
      "include_colab_link": true
    },
    "kernelspec": {
      "name": "python3",
      "display_name": "Python 3"
    },
    "language_info": {
      "name": "python"
    }
  },
  "cells": [
    {
      "cell_type": "markdown",
      "metadata": {
        "id": "view-in-github",
        "colab_type": "text"
      },
      "source": [
        "<a href=\"https://colab.research.google.com/github/ruben216/realidadepublica/blob/main/Report_RP.ipynb\" target=\"_parent\"><img src=\"https://colab.research.google.com/assets/colab-badge.svg\" alt=\"Open In Colab\"/></a>"
      ]
    },
    {
      "cell_type": "markdown",
      "metadata": {
        "id": "ACv3pgxrwnEf"
      },
      "source": [
        "## Primeira extração: Emendas parlamentares\n",
        "Antes de executar o código abaixo, é necessário possuir uma chave gerada no portal de transparência. Detalhes no Readme do repositório.\n"
      ]
    },
    {
      "cell_type": "code",
      "metadata": {
        "id": "I5KN3iXzwhy6",
        "colab": {
          "base_uri": "https://localhost:8080/"
        },
        "outputId": "49b16ac0-ffa3-4e35-c608-485ba2be34e6"
      },
      "source": [
        "import pandas as pd\n",
        "import requests\n",
        "import json\n",
        "import numpy as np\n",
        "\n",
        "# A biblioteca do Google Drive só é necessária para o caso de ser necessário exportar o dataframe\n",
        "from google.colab import drive\n",
        "\n",
        "#Comando para \"criar\" ou importar o seu Google Drive para dentro do Colab\n",
        "drive.mount('/drive')"
      ],
      "execution_count": 27,
      "outputs": [
        {
          "output_type": "stream",
          "name": "stdout",
          "text": [
            "Mounted at /drive\n"
          ]
        }
      ]
    },
    {
      "cell_type": "code",
      "metadata": {
        "id": "-G9dHdflxGcn"
      },
      "source": [
        "# Chave gerada no portal\n",
        "chave_portal = '6f98dcedb14a7c1053bc2bd8fb56ba5f'\n",
        "\n",
        "# É necessário enviar a chave no Header da requisição\n",
        "header_chave = {'chave-api-dados':chave_portal}\n",
        "\n",
        "#Variavel que indica se tivemos conteúdo retornado do Portal\n",
        "conteudo = 1\n",
        "\n",
        "#Variável que controla a página que estamos iterando\n",
        "pagina = 1\n",
        "\n",
        "#Ano que iremos consultar\n",
        "ano = 2021\n",
        "\n",
        "#Objeto que irá armazenar os dados retornados de todas as páginas\n",
        "dados_completos = []\n",
        "\n",
        "# Laço que valida se o conteúdo retornado não está vazio.\n",
        "while(conteudo > 0):\n",
        "\n",
        "  # A URL é montada informando o ano e a página\n",
        "  url = f'http://api.portaldatransparencia.gov.br/api-de-dados/emendas?ano={ano}&pagina={pagina}'\n",
        "  \n",
        "  # Neste ponto é enviada a request ao Portal de Transparencia, informando a URL e a chave.\n",
        "  dados_pagina = requests.get(url, verify=True,headers=header_chave).json()\n",
        "  \n",
        "  # A variável *conteudo* recebe o tamanho do retorno recebido\n",
        "  conteudo = len(dados_pagina)\n",
        "  \n",
        "  # Caso tenha conteúdo no retorno, ele é adicionado ao objeto de dados_completos\n",
        "  if(conteudo > 0):\n",
        "    dados_completos = dados_completos + dados_pagina\n",
        "  pagina += 1\n",
        "  print(pagina)\n",
        "\n",
        "\n",
        "df_dados_completos = pd.DataFrame(dados_completos)\n",
        "\n",
        "#Caso queira visualizar os primeiros 5 registros, pode usar o head abaixo\n",
        "#df_dados_completos.head()\n"
      ],
      "execution_count": null,
      "outputs": []
    },
    {
      "cell_type": "code",
      "metadata": {
        "id": "KeDPDk-OTb4M"
      },
      "source": [
        "# Para exportar o dataframe para o Google Drive\n",
        "df_dados_completos.to_csv('/drive/MyDrive/Colab Notebooks/df_dados_completos.csv')"
      ],
      "execution_count": 33,
      "outputs": []
    }
  ]
}