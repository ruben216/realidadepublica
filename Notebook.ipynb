{
  "nbformat": 4,
  "nbformat_minor": 0,
  "metadata": {
    "colab": {
      "name": "Untitled0.ipynb",
      "provenance": [],
      "authorship_tag": "ABX9TyM+NiGDS4qTDjkhhbobhyh4",
      "include_colab_link": true
    },
    "kernelspec": {
      "name": "python3",
      "display_name": "Python 3"
    },
    "language_info": {
      "name": "python"
    }
  },
  "cells": [
    {
      "cell_type": "markdown",
      "metadata": {
        "id": "view-in-github",
        "colab_type": "text"
      },
      "source": [
        "<a href=\"https://colab.research.google.com/github/ruben216/realidadepublica/blob/main/Notebook.ipynb\" target=\"_parent\"><img src=\"https://colab.research.google.com/assets/colab-badge.svg\" alt=\"Open In Colab\"/></a>"
      ]
    },
    {
      "cell_type": "markdown",
      "metadata": {
        "id": "VQ0vmv0GXG5L"
      },
      "source": [
        "# Teste\n",
        "Esse report serve apenas para visualizar as principais funcionalidades do Notebook dentro do Collab.\n",
        "- Listas\n",
        "- de\n",
        "- itens\n",
        "\n",
        "1. Númericas\n",
        "2. também\n",
        "3. existem\n",
        "\n",
        "### Sub item 1\n",
        "\n",
        "### Sub item 2\n",
        "\n"
      ]
    },
    {
      "cell_type": "code",
      "metadata": {
        "colab": {
          "base_uri": "https://localhost:8080/"
        },
        "id": "_EobiE7xXEwj",
        "outputId": "98e329e8-94a6-4b58-91a4-9da271e620c6"
      },
      "source": [
        "print('Impressão de texto')"
      ],
      "execution_count": null,
      "outputs": [
        {
          "output_type": "stream",
          "name": "stdout",
          "text": [
            "Impressão de texto\n"
          ]
        }
      ]
    },
    {
      "cell_type": "markdown",
      "source": [
        "Métodos em Python"
      ],
      "metadata": {
        "id": "SU8Gd7x0paD8"
      }
    },
    {
      "cell_type": "code",
      "source": [
        "\n",
        "\n",
        "def req(nome):\n",
        "  print('O nome é: \\n' + nome)\n",
        "\n",
        "req(\"dsadas\")\n",
        "\n",
        "# List Comprehensions \n",
        "lista = [i for i in range(10) if i % 2 == 0]\n",
        "print(lista)\n",
        "\n",
        "# Dicionários\n",
        "\n",
        "req = {\n",
        "    'chave_portal' : '6f98dcedb14a7c1053bc2bd8fb56ba5f',\n",
        "    'header_chave' : 'dsa890dkljsjadkj22'\n",
        "}\n",
        "\n",
        "print(req.get('chave_portal'))\n",
        "print(req.keys())\n",
        "\n",
        "\n",
        "\n",
        "\n",
        "\n",
        "\n",
        "\n"
      ],
      "metadata": {
        "id": "HYLkuhUlpXRU",
        "outputId": "e507c9e1-0a3e-46ab-ad93-5078cc79c2cf",
        "colab": {
          "base_uri": "https://localhost:8080/"
        }
      },
      "execution_count": 26,
      "outputs": [
        {
          "output_type": "stream",
          "name": "stdout",
          "text": [
            "O nome é: \n",
            "dsadas\n",
            "[0, 2, 4, 6, 8]\n",
            "6f98dcedb14a7c1053bc2bd8fb56ba5f\n",
            "dict_keys(['chave_portal', 'header_chave'])\n"
          ]
        }
      ]
    }
  ]
}