{
  "nbformat": 4,
  "nbformat_minor": 0,
  "metadata": {
    "colab": {
      "name": "Report_RP.ipynb",
      "provenance": [],
      "history_visible": true,
      "authorship_tag": "ABX9TyPsVZ/BhOE8Yv1rRP1uWkp0",
      "include_colab_link": true
    },
    "kernelspec": {
      "name": "python3",
      "display_name": "Python 3"
    },
    "language_info": {
      "name": "python"
    }
  },
  "cells": [
    {
      "cell_type": "markdown",
      "metadata": {
        "id": "view-in-github",
        "colab_type": "text"
      },
      "source": [
        "<a href=\"https://colab.research.google.com/github/ruben216/realidadepublica/blob/main/Report_RP.ipynb\" target=\"_parent\"><img src=\"https://colab.research.google.com/assets/colab-badge.svg\" alt=\"Open In Colab\"/></a>"
      ]
    },
    {
      "cell_type": "markdown",
      "metadata": {
        "id": "ACv3pgxrwnEf"
      },
      "source": [
        "## Enviando requisições\n",
        "Será necessário possuir uma chave gerada no portal de transparência. Detalhes no Readme do repositório."
      ]
    },
    {
      "cell_type": "code",
      "metadata": {
        "id": "I5KN3iXzwhy6",
        "colab": {
          "base_uri": "https://localhost:8080/"
        },
        "outputId": "49b16ac0-ffa3-4e35-c608-485ba2be34e6"
      },
      "source": [
        "import pandas as pd\n",
        "import requests\n",
        "import json\n",
        "import numpy as np\n",
        "from google.colab import drive\n",
        "\n",
        "drive.mount('/drive')"
      ],
      "execution_count": 27,
      "outputs": [
        {
          "output_type": "stream",
          "name": "stdout",
          "text": [
            "Mounted at /drive\n"
          ]
        }
      ]
    },
    {
      "cell_type": "code",
      "metadata": {
        "id": "-G9dHdflxGcn"
      },
      "source": [
        "# Chave gerada no portal\n",
        "chave_portal = '6f98dcedb14a7c1053bc2bd8fb56ba5f'\n",
        "\n",
        "# É necessário enviar a chave no Header da requisição\n",
        "header_chave = {'chave-api-dados':chave_portal}\n",
        "\n",
        "#Variavel que indica se tivemos conteúdo retornado do Portal\n",
        "conteudo = 1\n",
        "\n",
        "#Variável que controla a página que estamos iterando\n",
        "pagina = 1\n",
        "\n",
        "#Ano que iremos consultar\n",
        "ano = 2021\n",
        "\n",
        "#Objeto que irá armazenar os dados retornados de todas as páginas\n",
        "dados_completos = []\n",
        "\n",
        "while(conteudo > 0):\n",
        "  url = f'http://api.portaldatransparencia.gov.br/api-de-dados/emendas?ano={ano}&pagina={pagina}'\n",
        "  dados_pagina = requests.get(url, verify=True,headers=header_chave).json()\n",
        "  conteudo = len(dados_pagina)\n",
        "  if(conteudo > 0):\n",
        "    dados_completos = dados_completos + dados_pagina\n",
        "  pagina += 1\n",
        "  print(pagina)\n",
        "\n",
        "df_dados_completos = pd.DataFrame(dados_completos)\n",
        "df_dados_completos.head()\n"
      ],
      "execution_count": null,
      "outputs": []
    },
    {
      "cell_type": "code",
      "metadata": {
        "id": "KeDPDk-OTb4M"
      },
      "source": [
        "df_dados_completos.to_csv('/drive/MyDrive/Colab Notebooks/df_dados_completos.csv')"
      ],
      "execution_count": 33,
      "outputs": []
    }
  ]
}